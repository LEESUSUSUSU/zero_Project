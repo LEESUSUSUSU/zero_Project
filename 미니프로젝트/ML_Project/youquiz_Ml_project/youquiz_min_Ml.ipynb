{
 "cells": [
  {
   "cell_type": "code",
   "execution_count": 1,
   "metadata": {},
   "outputs": [
    {
     "name": "stdout",
     "output_type": "stream",
     "text": [
      "<class 'pandas.core.frame.DataFrame'>\n",
      "RangeIndex: 837 entries, 0 to 836\n",
      "Data columns (total 13 columns):\n",
      " #   Column      Non-Null Count  Dtype  \n",
      "---  ------      --------------  -----  \n",
      " 0   Unnamed: 0  837 non-null    int64  \n",
      " 1   출연자         837 non-null    object \n",
      " 2   회차          837 non-null    int64  \n",
      " 3   구독자수        837 non-null    int64  \n",
      " 4   시청률         835 non-null    float64\n",
      " 5   직업          837 non-null    object \n",
      " 6   성별          837 non-null    object \n",
      " 7   나이          837 non-null    object \n",
      " 8   수상여부        837 non-null    object \n",
      " 9   인지도         837 non-null    object \n",
      " 10  년           837 non-null    int64  \n",
      " 11  월           837 non-null    int64  \n",
      " 12  일           837 non-null    int64  \n",
      "dtypes: float64(1), int64(6), object(6)\n",
      "memory usage: 85.1+ KB\n"
     ]
    },
    {
     "data": {
      "text/plain": [
       "(   Unnamed: 0  출연자  회차  구독자수  시청률   직업 성별  나이 수상여부 인지도     년   월   일\n",
       " 0           0  나영석  40     0  2.6  서비스  M  중년    Y   Y  2019  10  22\n",
       " 1           1  이명진  40     0  2.6  서비스  M  청년    N   N  2019  10  22\n",
       " 2           2  김부연  41     0  2.7   기타  F  중년    N   N  2019  10  29\n",
       " 3           3  김유자  41     0  2.7   기타  F  청년    N   N  2019  10  29\n",
       " 4           4  김만순  41     0  2.7   기타  F  노년    N   N  2019  10  29,\n",
       "        Unnamed: 0          회차           구독자수         시청률            년  \\\n",
       " count  837.000000  837.000000     837.000000  835.000000   837.000000   \n",
       " mean   417.998805  132.351254  555386.308244    4.335001  2021.434886   \n",
       " std    241.763316   55.538455  277143.966024    1.064374     1.291165   \n",
       " min      0.000000   40.000000       0.000000    2.009000  2019.000000   \n",
       " 25%    209.000000   85.000000  480000.000000    3.659000  2020.000000   \n",
       " 50%    418.000000  132.000000  629519.000000    4.422000  2021.000000   \n",
       " 75%    627.000000  178.000000  764019.000000    4.988000  2023.000000   \n",
       " max    835.000000  230.000000  897000.000000    6.748000  2024.000000   \n",
       " \n",
       "                 월           일  \n",
       " count  837.000000  837.000000  \n",
       " mean     6.974910   15.777778  \n",
       " std      3.577988    8.576887  \n",
       " min      1.000000    1.000000  \n",
       " 25%      4.000000    8.000000  \n",
       " 50%      7.000000   16.000000  \n",
       " 75%     10.000000   23.000000  \n",
       " max     12.000000   31.000000  ,\n",
       " None)"
      ]
     },
     "execution_count": 1,
     "metadata": {},
     "output_type": "execute_result"
    }
   ],
   "source": [
    "import pandas as pd\n",
    "\n",
    "#민형기 교수님이 추가된 파일\n",
    "file_path = '/Users/2suyeon/Desktop/zerobase/미니프로젝트/ML_Project/youquiz_Ml_project/data/final_0214_min.csv'\n",
    "data = pd.read_csv(file_path)\n",
    "\n",
    "\n",
    "data.head(), data.describe(), data.info()\n"
   ]
  },
  {
   "cell_type": "code",
   "execution_count": 2,
   "metadata": {},
   "outputs": [
    {
     "data": {
      "text/html": [
       "<div>\n",
       "<style scoped>\n",
       "    .dataframe tbody tr th:only-of-type {\n",
       "        vertical-align: middle;\n",
       "    }\n",
       "\n",
       "    .dataframe tbody tr th {\n",
       "        vertical-align: top;\n",
       "    }\n",
       "\n",
       "    .dataframe thead th {\n",
       "        text-align: right;\n",
       "    }\n",
       "</style>\n",
       "<table border=\"1\" class=\"dataframe\">\n",
       "  <thead>\n",
       "    <tr style=\"text-align: right;\">\n",
       "      <th></th>\n",
       "      <th>Unnamed: 0</th>\n",
       "      <th>출연자</th>\n",
       "      <th>회차</th>\n",
       "      <th>구독자수</th>\n",
       "      <th>시청률</th>\n",
       "      <th>직업</th>\n",
       "      <th>성별</th>\n",
       "      <th>나이</th>\n",
       "      <th>수상여부</th>\n",
       "      <th>인지도</th>\n",
       "      <th>년</th>\n",
       "      <th>월</th>\n",
       "      <th>일</th>\n",
       "    </tr>\n",
       "  </thead>\n",
       "  <tbody>\n",
       "    <tr>\n",
       "      <th>835</th>\n",
       "      <td>835</td>\n",
       "      <td>민형기</td>\n",
       "      <td>230</td>\n",
       "      <td>897000</td>\n",
       "      <td>NaN</td>\n",
       "      <td>전문기술</td>\n",
       "      <td>M</td>\n",
       "      <td>중년</td>\n",
       "      <td>Y</td>\n",
       "      <td>Y</td>\n",
       "      <td>2024</td>\n",
       "      <td>2</td>\n",
       "      <td>7</td>\n",
       "    </tr>\n",
       "    <tr>\n",
       "      <th>836</th>\n",
       "      <td>835</td>\n",
       "      <td>민형기</td>\n",
       "      <td>230</td>\n",
       "      <td>897000</td>\n",
       "      <td>NaN</td>\n",
       "      <td>전문기술</td>\n",
       "      <td>M</td>\n",
       "      <td>중년</td>\n",
       "      <td>Y</td>\n",
       "      <td>N</td>\n",
       "      <td>2024</td>\n",
       "      <td>2</td>\n",
       "      <td>7</td>\n",
       "    </tr>\n",
       "  </tbody>\n",
       "</table>\n",
       "</div>"
      ],
      "text/plain": [
       "     Unnamed: 0  출연자   회차    구독자수  시청률    직업 성별  나이 수상여부 인지도     년  월  일\n",
       "835         835  민형기  230  897000  NaN  전문기술  M  중년    Y   Y  2024  2  7\n",
       "836         835  민형기  230  897000  NaN  전문기술  M  중년    Y   N  2024  2  7"
      ]
     },
     "execution_count": 2,
     "metadata": {},
     "output_type": "execute_result"
    }
   ],
   "source": [
    "# 민형기 교수님 확인 # 회차에 따른 년 월 일 지정 시청률 null\n",
    "min_hyung_ki_data = data[data['출연자'] == '민형기']\n",
    "\n",
    "min_hyung_ki_data\n"
   ]
  },
  {
   "cell_type": "code",
   "execution_count": 3,
   "metadata": {},
   "outputs": [
    {
     "data": {
      "text/plain": [
       "0.2544575758140972"
      ]
     },
     "execution_count": 3,
     "metadata": {},
     "output_type": "execute_result"
    }
   ],
   "source": [
    "from sklearn.model_selection import train_test_split\n",
    "from sklearn.preprocessing import OneHotEncoder\n",
    "from sklearn.ensemble import RandomForestRegressor\n",
    "from sklearn.metrics import mean_squared_error\n",
    "from sklearn.pipeline import make_pipeline\n",
    "from sklearn.compose import ColumnTransformer\n",
    "\n",
    "\n",
    "data_clean = data.dropna(subset=['시청률'])\n",
    "\n",
    "\n",
    "features = ['구독자수', '직업', '성별', '나이', '수상여부', '인지도']\n",
    "target = '시청률'\n",
    "\n",
    "X = data_clean[features]\n",
    "y = data_clean[target]\n",
    "\n",
    "\n",
    "categorical_features = ['직업', '성별', '나이', '수상여부', '인지도']\n",
    "numerical_features = ['구독자수']\n",
    "\n",
    "\n",
    "preprocessor = ColumnTransformer(\n",
    "    transformers=[\n",
    "        ('num', 'passthrough', numerical_features),\n",
    "        ('cat', OneHotEncoder(), categorical_features)\n",
    "    ]\n",
    ")\n",
    "\n",
    "\n",
    "X_train, X_test, y_train, y_test = train_test_split(X, y, test_size=0.2, random_state=42)\n",
    "\n",
    "\n",
    "model = make_pipeline(preprocessor, RandomForestRegressor(n_estimators=100, random_state=42))\n",
    "\n",
    "\n",
    "model.fit(X_train, y_train)\n",
    "\n",
    "\n",
    "y_pred = model.predict(X_test)\n",
    "\n",
    "\n",
    "mse = mean_squared_error(y_test, y_pred)\n",
    "\n",
    "mse\n"
   ]
  },
  {
   "cell_type": "code",
   "execution_count": 12,
   "metadata": {},
   "outputs": [
    {
     "name": "stdout",
     "output_type": "stream",
     "text": [
      "민형기 교수님이 유키즈에 나오면 시청률은? [5.19004]\n"
     ]
    }
   ],
   "source": [
    "\n",
    "min_hyung_ki_features = min_hyung_ki_data[features].iloc[0].to_frame().T  \n",
    "\n",
    "\n",
    "min_hyung_ki_predicted_rating = model.predict(min_hyung_ki_features)\n",
    "\n",
    "print(f'민형기 교수님이 유키즈에 나오면 시청률은? {min_hyung_ki_predicted_rating}')\n"
   ]
  },
  {
   "cell_type": "markdown",
   "metadata": {},
   "source": [
    "### 날짜 특성에 sin과 cos인 값으로 변경\n"
   ]
  },
  {
   "cell_type": "code",
   "execution_count": 5,
   "metadata": {},
   "outputs": [
    {
     "name": "stderr",
     "output_type": "stream",
     "text": [
      "/var/folders/3d/nr_splbx619_jz_ryc6wg6740000gn/T/ipykernel_2019/3704540372.py:11: SettingWithCopyWarning: \n",
      "A value is trying to be set on a copy of a slice from a DataFrame.\n",
      "Try using .loc[row_indexer,col_indexer] = value instead\n",
      "\n",
      "See the caveats in the documentation: https://pandas.pydata.org/pandas-docs/stable/user_guide/indexing.html#returning-a-view-versus-a-copy\n",
      "  data_clean['년_sin'], data_clean['년_cos'] = date_to_sin_cos(data_clean, '년')\n",
      "/var/folders/3d/nr_splbx619_jz_ryc6wg6740000gn/T/ipykernel_2019/3704540372.py:11: SettingWithCopyWarning: \n",
      "A value is trying to be set on a copy of a slice from a DataFrame.\n",
      "Try using .loc[row_indexer,col_indexer] = value instead\n",
      "\n",
      "See the caveats in the documentation: https://pandas.pydata.org/pandas-docs/stable/user_guide/indexing.html#returning-a-view-versus-a-copy\n",
      "  data_clean['년_sin'], data_clean['년_cos'] = date_to_sin_cos(data_clean, '년')\n",
      "/var/folders/3d/nr_splbx619_jz_ryc6wg6740000gn/T/ipykernel_2019/3704540372.py:12: SettingWithCopyWarning: \n",
      "A value is trying to be set on a copy of a slice from a DataFrame.\n",
      "Try using .loc[row_indexer,col_indexer] = value instead\n",
      "\n",
      "See the caveats in the documentation: https://pandas.pydata.org/pandas-docs/stable/user_guide/indexing.html#returning-a-view-versus-a-copy\n",
      "  data_clean['월_sin'], data_clean['월_cos'] = date_to_sin_cos(data_clean, '월')\n",
      "/var/folders/3d/nr_splbx619_jz_ryc6wg6740000gn/T/ipykernel_2019/3704540372.py:12: SettingWithCopyWarning: \n",
      "A value is trying to be set on a copy of a slice from a DataFrame.\n",
      "Try using .loc[row_indexer,col_indexer] = value instead\n",
      "\n",
      "See the caveats in the documentation: https://pandas.pydata.org/pandas-docs/stable/user_guide/indexing.html#returning-a-view-versus-a-copy\n",
      "  data_clean['월_sin'], data_clean['월_cos'] = date_to_sin_cos(data_clean, '월')\n",
      "/var/folders/3d/nr_splbx619_jz_ryc6wg6740000gn/T/ipykernel_2019/3704540372.py:13: SettingWithCopyWarning: \n",
      "A value is trying to be set on a copy of a slice from a DataFrame.\n",
      "Try using .loc[row_indexer,col_indexer] = value instead\n",
      "\n",
      "See the caveats in the documentation: https://pandas.pydata.org/pandas-docs/stable/user_guide/indexing.html#returning-a-view-versus-a-copy\n",
      "  data_clean['일_sin'], data_clean['일_cos'] = date_to_sin_cos(data_clean, '일')\n",
      "/var/folders/3d/nr_splbx619_jz_ryc6wg6740000gn/T/ipykernel_2019/3704540372.py:13: SettingWithCopyWarning: \n",
      "A value is trying to be set on a copy of a slice from a DataFrame.\n",
      "Try using .loc[row_indexer,col_indexer] = value instead\n",
      "\n",
      "See the caveats in the documentation: https://pandas.pydata.org/pandas-docs/stable/user_guide/indexing.html#returning-a-view-versus-a-copy\n",
      "  data_clean['일_sin'], data_clean['일_cos'] = date_to_sin_cos(data_clean, '일')\n"
     ]
    },
    {
     "data": {
      "text/plain": [
       "0.2544575758140972"
      ]
     },
     "execution_count": 5,
     "metadata": {},
     "output_type": "execute_result"
    }
   ],
   "source": [
    "import numpy as np\n",
    "\n",
    "\n",
    "def date_to_sin_cos(df, column_name):\n",
    "    max_value = df[column_name].max()\n",
    "    sin_col = np.sin(2 * np.pi * df[column_name] / max_value)\n",
    "    cos_col = np.cos(2 * np.pi * df[column_name] / max_value)\n",
    "    return sin_col, cos_col\n",
    "\n",
    "\n",
    "data_clean['년_sin'], data_clean['년_cos'] = date_to_sin_cos(data_clean, '년')\n",
    "data_clean['월_sin'], data_clean['월_cos'] = date_to_sin_cos(data_clean, '월')\n",
    "data_clean['일_sin'], data_clean['일_cos'] = date_to_sin_cos(data_clean, '일')\n",
    "\n",
    "\n",
    "features_extended = features + ['년_sin', '년_cos', '월_sin', '월_cos', '일_sin', '일_cos']\n",
    "\n",
    "X_extended = data_clean[features_extended]\n",
    "\n",
    "\n",
    "X_train_ext, X_test_ext, y_train, y_test = train_test_split(X_extended, y, test_size=0.2, random_state=42)\n",
    "\n",
    "\n",
    "model_ext = make_pipeline(preprocessor, RandomForestRegressor(n_estimators=100, random_state=42))\n",
    "\n",
    "\n",
    "model_ext.fit(X_train_ext, y_train)\n",
    "\n",
    "\n",
    "y_pred_ext = model_ext.predict(X_test_ext)\n",
    "\n",
    "\n",
    "mse_ext = mean_squared_error(y_test, y_pred_ext)\n",
    "\n",
    "mse_ext\n"
   ]
  },
  {
   "cell_type": "code",
   "execution_count": 6,
   "metadata": {},
   "outputs": [
    {
     "name": "stderr",
     "output_type": "stream",
     "text": [
      "/var/folders/3d/nr_splbx619_jz_ryc6wg6740000gn/T/ipykernel_2019/3704540372.py:11: SettingWithCopyWarning: \n",
      "A value is trying to be set on a copy of a slice from a DataFrame.\n",
      "Try using .loc[row_indexer,col_indexer] = value instead\n",
      "\n",
      "See the caveats in the documentation: https://pandas.pydata.org/pandas-docs/stable/user_guide/indexing.html#returning-a-view-versus-a-copy\n",
      "  data_clean['년_sin'], data_clean['년_cos'] = date_to_sin_cos(data_clean, '년')\n",
      "/var/folders/3d/nr_splbx619_jz_ryc6wg6740000gn/T/ipykernel_2019/3704540372.py:12: SettingWithCopyWarning: \n",
      "A value is trying to be set on a copy of a slice from a DataFrame.\n",
      "Try using .loc[row_indexer,col_indexer] = value instead\n",
      "\n",
      "See the caveats in the documentation: https://pandas.pydata.org/pandas-docs/stable/user_guide/indexing.html#returning-a-view-versus-a-copy\n",
      "  data_clean['월_sin'], data_clean['월_cos'] = date_to_sin_cos(data_clean, '월')\n",
      "/var/folders/3d/nr_splbx619_jz_ryc6wg6740000gn/T/ipykernel_2019/3704540372.py:13: SettingWithCopyWarning: \n",
      "A value is trying to be set on a copy of a slice from a DataFrame.\n",
      "Try using .loc[row_indexer,col_indexer] = value instead\n",
      "\n",
      "See the caveats in the documentation: https://pandas.pydata.org/pandas-docs/stable/user_guide/indexing.html#returning-a-view-versus-a-copy\n",
      "  data_clean['일_sin'], data_clean['일_cos'] = date_to_sin_cos(data_clean, '일')\n"
     ]
    },
    {
     "data": {
      "text/plain": [
       "0.2544575758140972"
      ]
     },
     "execution_count": 6,
     "metadata": {},
     "output_type": "execute_result"
    }
   ],
   "source": [
    "import numpy as np\n",
    "\n",
    "\n",
    "def date_to_sin_cos(df, column_name):\n",
    "    max_value = df[column_name].max()\n",
    "    sin_col = np.sin(2 * np.pi * df[column_name] / max_value)\n",
    "    cos_col = np.cos(2 * np.pi * df[column_name] / max_value)\n",
    "    return sin_col, cos_col\n",
    "\n",
    "\n",
    "data_clean['년_sin'], data_clean['년_cos'] = date_to_sin_cos(data_clean, '년')\n",
    "data_clean['월_sin'], data_clean['월_cos'] = date_to_sin_cos(data_clean, '월')\n",
    "data_clean['일_sin'], data_clean['일_cos'] = date_to_sin_cos(data_clean, '일')\n",
    "\n",
    "# x,y 위치 찾을 수 있다아아아아\n",
    "\n",
    "features_extended = features + ['년_sin', '년_cos', '월_sin', '월_cos', '일_sin', '일_cos']\n",
    "\n",
    "X_extended = data_clean[features_extended]\n",
    "\n",
    "\n",
    "X_train_ext, X_test_ext, y_train, y_test = train_test_split(X_extended, y, test_size=0.2, random_state=42)\n",
    "\n",
    "\n",
    "model_ext = make_pipeline(preprocessor, RandomForestRegressor(n_estimators=100, random_state=42))\n",
    "\n",
    "\n",
    "model_ext.fit(X_train_ext, y_train)\n",
    "\n",
    "\n",
    "y_pred_ext = model_ext.predict(X_test_ext)\n",
    "\n",
    "\n",
    "mse_ext = mean_squared_error(y_test, y_pred_ext)\n",
    "\n",
    "mse_ext\n"
   ]
  },
  {
   "cell_type": "markdown",
   "metadata": {},
   "source": [
    "### 계절성 추가\n"
   ]
  },
  {
   "cell_type": "code",
   "execution_count": 7,
   "metadata": {},
   "outputs": [
    {
     "name": "stderr",
     "output_type": "stream",
     "text": [
      "/var/folders/3d/nr_splbx619_jz_ryc6wg6740000gn/T/ipykernel_2019/1983168076.py:7: SettingWithCopyWarning: \n",
      "A value is trying to be set on a copy of a slice from a DataFrame.\n",
      "Try using .loc[row_indexer,col_indexer] = value instead\n",
      "\n",
      "See the caveats in the documentation: https://pandas.pydata.org/pandas-docs/stable/user_guide/indexing.html#returning-a-view-versus-a-copy\n",
      "  df['Season'] = df['월'].map(month_to_season)\n"
     ]
    },
    {
     "data": {
      "text/plain": [
       "0.23283745101342007"
      ]
     },
     "execution_count": 7,
     "metadata": {},
     "output_type": "execute_result"
    }
   ],
   "source": [
    "\n",
    "def add_seasonality(df):\n",
    "    seasons = [(1, 'Winter'), (2, 'Winter'), (3, 'Spring'), (4, 'Spring'), (5, 'Spring'), \n",
    "               (6, 'Summer'), (7, 'Summer'), (8, 'Summer'), (9, 'Autumn'), (10, 'Autumn'), \n",
    "               (11, 'Autumn'), (12, 'Winter')]\n",
    "    month_to_season = {month: season for month, season in seasons}\n",
    "    df['Season'] = df['월'].map(month_to_season)\n",
    "    return df\n",
    "\n",
    "\n",
    "data_seasonal = add_seasonality(data_clean)\n",
    "\n",
    "\n",
    "features_seasonal = features_extended + ['Season']\n",
    "\n",
    "\n",
    "preprocessor_seasonal = ColumnTransformer(\n",
    "    transformers=[\n",
    "        ('num', 'passthrough', numerical_features),\n",
    "        ('cat', OneHotEncoder(), categorical_features + ['Season'])\n",
    "    ]\n",
    ")\n",
    "\n",
    "\n",
    "X_seasonal = data_seasonal[features_seasonal]\n",
    "y_seasonal = data_seasonal[target]\n",
    "\n",
    "\n",
    "X_train_sea, X_test_sea, y_train_sea, y_test_sea = train_test_split(X_seasonal, y_seasonal, test_size=0.2, random_state=42)\n",
    "\n",
    "\n",
    "model_sea = make_pipeline(preprocessor_seasonal, RandomForestRegressor(n_estimators=100, random_state=42))\n",
    "\n",
    "\n",
    "model_sea.fit(X_train_sea, y_train_sea)\n",
    "\n",
    "\n",
    "y_pred_sea = model_sea.predict(X_test_sea)\n",
    "\n",
    "\n",
    "mse_sea = mean_squared_error(y_test_sea, y_pred_sea)\n",
    "\n",
    "mse_sea\n"
   ]
  },
  {
   "cell_type": "markdown",
   "metadata": {},
   "source": [
    "# 자랑 해야지\n",
    "# 왜?\n",
    "# 시청률이 왜 조회수 보다 좋음? \n"
   ]
  },
  {
   "cell_type": "code",
   "execution_count": null,
   "metadata": {},
   "outputs": [],
   "source": []
  }
 ],
 "metadata": {
  "kernelspec": {
   "display_name": "ML_project",
   "language": "python",
   "name": "python3"
  },
  "language_info": {
   "codemirror_mode": {
    "name": "ipython",
    "version": 3
   },
   "file_extension": ".py",
   "mimetype": "text/x-python",
   "name": "python",
   "nbconvert_exporter": "python",
   "pygments_lexer": "ipython3",
   "version": "3.8.18"
  }
 },
 "nbformat": 4,
 "nbformat_minor": 2
}
